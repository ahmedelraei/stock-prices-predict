{
  "nbformat": 4,
  "nbformat_minor": 0,
  "metadata": {
    "colab": {
      "provenance": [],
      "authorship_tag": "ABX9TyOyvEChDhBHVswN0Z3d9mkQ",
      "include_colab_link": true
    },
    "kernelspec": {
      "name": "python3",
      "display_name": "Python 3"
    },
    "language_info": {
      "name": "python"
    }
  },
  "cells": [
    {
      "cell_type": "markdown",
      "metadata": {
        "id": "view-in-github",
        "colab_type": "text"
      },
      "source": [
        "<a href=\"https://colab.research.google.com/github/ahmedelraei/stock-prices-predict/blob/main/Stock_Prices_Predict.ipynb\" target=\"_parent\"><img src=\"https://colab.research.google.com/assets/colab-badge.svg\" alt=\"Open In Colab\"/></a>"
      ]
    },
    {
      "cell_type": "code",
      "source": [
        "!pip install --upgrade pandas_datareader"
      ],
      "metadata": {
        "id": "EjYY72ALYDhM"
      },
      "execution_count": null,
      "outputs": []
    },
    {
      "cell_type": "code",
      "execution_count": 1,
      "metadata": {
        "id": "Z0x2qo1QCEhi"
      },
      "outputs": [],
      "source": [
        "import numpy as np\n",
        "import matplotlib.pyplot as plt\n",
        "import pandas as pd\n",
        "import pandas_datareader\n",
        "import datetime as dt\n",
        "from sklearn.preprocessing import MinMaxScaler\n",
        "from tensorflow import keras\n",
        "from keras.models import Sequential\n",
        "from keras.layers import Dense, Dropout, LSTM\n"
      ]
    },
    {
      "cell_type": "markdown",
      "source": [
        "# Pre-processing Data"
      ],
      "metadata": {
        "id": "YaZJVZSe7C3J"
      }
    },
    {
      "cell_type": "code",
      "source": [
        "ticker = \"GOOG\"\n",
        "\n",
        "start = dt.datetime(2012,1,1)\n",
        "end = dt.datetime(2022,1,1)\n",
        "\n",
        "data = pandas_datareader.DataReader(ticker, \"yahoo\", start, end)\n",
        "scaler = MinMaxScaler(feature_range=(0, 1))\n",
        "scaled_data = scaler.fit_transform(data['Close'].values.reshape(-1, 1))\n",
        "\n",
        "data.tail()"
      ],
      "metadata": {
        "id": "tvFGy-qoC8EL",
        "colab": {
          "base_uri": "https://localhost:8080/",
          "height": 232
        },
        "outputId": "42953dcb-d2a6-4c51-f175-05dc7e17aa64"
      },
      "execution_count": 12,
      "outputs": [
        {
          "output_type": "execute_result",
          "data": {
            "text/plain": [
              "                  High         Low        Open       Close      Volume  \\\n",
              "Date                                                                     \n",
              "2021-12-27  148.426498  147.250000  147.463501  148.063995  13256000.0   \n",
              "2021-12-28  148.374496  145.935501  148.374496  146.447998  18624000.0   \n",
              "2021-12-29  147.183746  145.504501  146.429504  146.504501  17022000.0   \n",
              "2021-12-30  147.062500  145.758499  146.449997  146.002502  12978000.0   \n",
              "2021-12-31  146.365005  144.677505  145.544006  144.679504  17298000.0   \n",
              "\n",
              "             Adj Close  \n",
              "Date                    \n",
              "2021-12-27  148.063995  \n",
              "2021-12-28  146.447998  \n",
              "2021-12-29  146.504501  \n",
              "2021-12-30  146.002502  \n",
              "2021-12-31  144.679504  "
            ],
            "text/html": [
              "\n",
              "  <div id=\"df-78376b1e-3b27-4728-a720-03658f6b90de\">\n",
              "    <div class=\"colab-df-container\">\n",
              "      <div>\n",
              "<style scoped>\n",
              "    .dataframe tbody tr th:only-of-type {\n",
              "        vertical-align: middle;\n",
              "    }\n",
              "\n",
              "    .dataframe tbody tr th {\n",
              "        vertical-align: top;\n",
              "    }\n",
              "\n",
              "    .dataframe thead th {\n",
              "        text-align: right;\n",
              "    }\n",
              "</style>\n",
              "<table border=\"1\" class=\"dataframe\">\n",
              "  <thead>\n",
              "    <tr style=\"text-align: right;\">\n",
              "      <th></th>\n",
              "      <th>High</th>\n",
              "      <th>Low</th>\n",
              "      <th>Open</th>\n",
              "      <th>Close</th>\n",
              "      <th>Volume</th>\n",
              "      <th>Adj Close</th>\n",
              "    </tr>\n",
              "    <tr>\n",
              "      <th>Date</th>\n",
              "      <th></th>\n",
              "      <th></th>\n",
              "      <th></th>\n",
              "      <th></th>\n",
              "      <th></th>\n",
              "      <th></th>\n",
              "    </tr>\n",
              "  </thead>\n",
              "  <tbody>\n",
              "    <tr>\n",
              "      <th>2021-12-27</th>\n",
              "      <td>148.426498</td>\n",
              "      <td>147.250000</td>\n",
              "      <td>147.463501</td>\n",
              "      <td>148.063995</td>\n",
              "      <td>13256000.0</td>\n",
              "      <td>148.063995</td>\n",
              "    </tr>\n",
              "    <tr>\n",
              "      <th>2021-12-28</th>\n",
              "      <td>148.374496</td>\n",
              "      <td>145.935501</td>\n",
              "      <td>148.374496</td>\n",
              "      <td>146.447998</td>\n",
              "      <td>18624000.0</td>\n",
              "      <td>146.447998</td>\n",
              "    </tr>\n",
              "    <tr>\n",
              "      <th>2021-12-29</th>\n",
              "      <td>147.183746</td>\n",
              "      <td>145.504501</td>\n",
              "      <td>146.429504</td>\n",
              "      <td>146.504501</td>\n",
              "      <td>17022000.0</td>\n",
              "      <td>146.504501</td>\n",
              "    </tr>\n",
              "    <tr>\n",
              "      <th>2021-12-30</th>\n",
              "      <td>147.062500</td>\n",
              "      <td>145.758499</td>\n",
              "      <td>146.449997</td>\n",
              "      <td>146.002502</td>\n",
              "      <td>12978000.0</td>\n",
              "      <td>146.002502</td>\n",
              "    </tr>\n",
              "    <tr>\n",
              "      <th>2021-12-31</th>\n",
              "      <td>146.365005</td>\n",
              "      <td>144.677505</td>\n",
              "      <td>145.544006</td>\n",
              "      <td>144.679504</td>\n",
              "      <td>17298000.0</td>\n",
              "      <td>144.679504</td>\n",
              "    </tr>\n",
              "  </tbody>\n",
              "</table>\n",
              "</div>\n",
              "      <button class=\"colab-df-convert\" onclick=\"convertToInteractive('df-78376b1e-3b27-4728-a720-03658f6b90de')\"\n",
              "              title=\"Convert this dataframe to an interactive table.\"\n",
              "              style=\"display:none;\">\n",
              "        \n",
              "  <svg xmlns=\"http://www.w3.org/2000/svg\" height=\"24px\"viewBox=\"0 0 24 24\"\n",
              "       width=\"24px\">\n",
              "    <path d=\"M0 0h24v24H0V0z\" fill=\"none\"/>\n",
              "    <path d=\"M18.56 5.44l.94 2.06.94-2.06 2.06-.94-2.06-.94-.94-2.06-.94 2.06-2.06.94zm-11 1L8.5 8.5l.94-2.06 2.06-.94-2.06-.94L8.5 2.5l-.94 2.06-2.06.94zm10 10l.94 2.06.94-2.06 2.06-.94-2.06-.94-.94-2.06-.94 2.06-2.06.94z\"/><path d=\"M17.41 7.96l-1.37-1.37c-.4-.4-.92-.59-1.43-.59-.52 0-1.04.2-1.43.59L10.3 9.45l-7.72 7.72c-.78.78-.78 2.05 0 2.83L4 21.41c.39.39.9.59 1.41.59.51 0 1.02-.2 1.41-.59l7.78-7.78 2.81-2.81c.8-.78.8-2.07 0-2.86zM5.41 20L4 18.59l7.72-7.72 1.47 1.35L5.41 20z\"/>\n",
              "  </svg>\n",
              "      </button>\n",
              "      \n",
              "  <style>\n",
              "    .colab-df-container {\n",
              "      display:flex;\n",
              "      flex-wrap:wrap;\n",
              "      gap: 12px;\n",
              "    }\n",
              "\n",
              "    .colab-df-convert {\n",
              "      background-color: #E8F0FE;\n",
              "      border: none;\n",
              "      border-radius: 50%;\n",
              "      cursor: pointer;\n",
              "      display: none;\n",
              "      fill: #1967D2;\n",
              "      height: 32px;\n",
              "      padding: 0 0 0 0;\n",
              "      width: 32px;\n",
              "    }\n",
              "\n",
              "    .colab-df-convert:hover {\n",
              "      background-color: #E2EBFA;\n",
              "      box-shadow: 0px 1px 2px rgba(60, 64, 67, 0.3), 0px 1px 3px 1px rgba(60, 64, 67, 0.15);\n",
              "      fill: #174EA6;\n",
              "    }\n",
              "\n",
              "    [theme=dark] .colab-df-convert {\n",
              "      background-color: #3B4455;\n",
              "      fill: #D2E3FC;\n",
              "    }\n",
              "\n",
              "    [theme=dark] .colab-df-convert:hover {\n",
              "      background-color: #434B5C;\n",
              "      box-shadow: 0px 1px 3px 1px rgba(0, 0, 0, 0.15);\n",
              "      filter: drop-shadow(0px 1px 2px rgba(0, 0, 0, 0.3));\n",
              "      fill: #FFFFFF;\n",
              "    }\n",
              "  </style>\n",
              "\n",
              "      <script>\n",
              "        const buttonEl =\n",
              "          document.querySelector('#df-78376b1e-3b27-4728-a720-03658f6b90de button.colab-df-convert');\n",
              "        buttonEl.style.display =\n",
              "          google.colab.kernel.accessAllowed ? 'block' : 'none';\n",
              "\n",
              "        async function convertToInteractive(key) {\n",
              "          const element = document.querySelector('#df-78376b1e-3b27-4728-a720-03658f6b90de');\n",
              "          const dataTable =\n",
              "            await google.colab.kernel.invokeFunction('convertToInteractive',\n",
              "                                                     [key], {});\n",
              "          if (!dataTable) return;\n",
              "\n",
              "          const docLinkHtml = 'Like what you see? Visit the ' +\n",
              "            '<a target=\"_blank\" href=https://colab.research.google.com/notebooks/data_table.ipynb>data table notebook</a>'\n",
              "            + ' to learn more about interactive tables.';\n",
              "          element.innerHTML = '';\n",
              "          dataTable['output_type'] = 'display_data';\n",
              "          await google.colab.output.renderOutput(dataTable, element);\n",
              "          const docLink = document.createElement('div');\n",
              "          docLink.innerHTML = docLinkHtml;\n",
              "          element.appendChild(docLink);\n",
              "        }\n",
              "      </script>\n",
              "    </div>\n",
              "  </div>\n",
              "  "
            ]
          },
          "metadata": {},
          "execution_count": 12
        }
      ]
    },
    {
      "cell_type": "markdown",
      "source": [
        "# Training Model"
      ],
      "metadata": {
        "id": "cwfp_E3U7LH9"
      }
    },
    {
      "cell_type": "code",
      "source": [
        "prediction_days = 60\n",
        "\n",
        "x_train = []\n",
        "y_train = []\n",
        "\n",
        "for x in range(prediction_days, len(scaled_data)):\n",
        "    x_train.append(scaled_data[x-prediction_days:x, 0])\n",
        "    y_train.append(scaled_data[x, 0])\n",
        "\n",
        "x_train, y_train = np.array(x_train), np.array(y_train)\n",
        "\n",
        "x_train = np.reshape(x_train, (x_train.shape[0], x_train.shape[1], 1))\n",
        "\n",
        "\n",
        "model = Sequential()\n",
        "\n",
        "model.add(LSTM(units=50, return_sequences=True, input_shape=(x_train.shape[1], 1)))\n",
        "model.add(Dropout(0.2))\n",
        "model.add(LSTM(units=50, return_sequences=True))\n",
        "model.add(Dropout(0.2))\n",
        "model.add(LSTM(units=50))\n",
        "model.add(Dropout(0.2))\n",
        "model.add(Dense(units=1)) # Prediction\n",
        "\n",
        "model.compile(optimizer=\"adam\", loss=\"mean_squared_error\")\n",
        "model.fit(x_train, y_train, epochs=25, batch_size=32)\n"
      ],
      "metadata": {
        "colab": {
          "base_uri": "https://localhost:8080/"
        },
        "id": "60lc4GtDYks7",
        "outputId": "4d6d6081-3dfc-4f66-dcb8-534e214ab99b"
      },
      "execution_count": 13,
      "outputs": [
        {
          "output_type": "stream",
          "name": "stdout",
          "text": [
            "Epoch 1/25\n",
            "77/77 [==============================] - 12s 85ms/step - loss: 0.0086\n",
            "Epoch 2/25\n",
            "77/77 [==============================] - 7s 97ms/step - loss: 0.0017\n",
            "Epoch 3/25\n",
            "77/77 [==============================] - 6s 82ms/step - loss: 0.0017\n",
            "Epoch 4/25\n",
            "77/77 [==============================] - 6s 83ms/step - loss: 0.0014\n",
            "Epoch 5/25\n",
            "77/77 [==============================] - 6s 82ms/step - loss: 0.0013\n",
            "Epoch 6/25\n",
            "77/77 [==============================] - 6s 83ms/step - loss: 0.0012\n",
            "Epoch 7/25\n",
            "77/77 [==============================] - 6s 82ms/step - loss: 0.0013\n",
            "Epoch 8/25\n",
            "77/77 [==============================] - 7s 96ms/step - loss: 0.0012\n",
            "Epoch 9/25\n",
            "77/77 [==============================] - 6s 84ms/step - loss: 0.0011\n",
            "Epoch 10/25\n",
            "77/77 [==============================] - 8s 100ms/step - loss: 0.0014\n",
            "Epoch 11/25\n",
            "77/77 [==============================] - 7s 89ms/step - loss: 0.0010\n",
            "Epoch 12/25\n",
            "77/77 [==============================] - 6s 82ms/step - loss: 0.0012\n",
            "Epoch 13/25\n",
            "77/77 [==============================] - 6s 82ms/step - loss: 0.0010\n",
            "Epoch 14/25\n",
            "77/77 [==============================] - 8s 98ms/step - loss: 8.1790e-04\n",
            "Epoch 15/25\n",
            "77/77 [==============================] - 6s 83ms/step - loss: 8.4684e-04\n",
            "Epoch 16/25\n",
            "77/77 [==============================] - 6s 82ms/step - loss: 9.5923e-04\n",
            "Epoch 17/25\n",
            "77/77 [==============================] - 6s 82ms/step - loss: 0.0011\n",
            "Epoch 18/25\n",
            "77/77 [==============================] - 6s 82ms/step - loss: 8.3113e-04\n",
            "Epoch 19/25\n",
            "77/77 [==============================] - 6s 83ms/step - loss: 7.6086e-04\n",
            "Epoch 20/25\n",
            "77/77 [==============================] - 7s 97ms/step - loss: 8.2423e-04\n",
            "Epoch 21/25\n",
            "77/77 [==============================] - 6s 83ms/step - loss: 8.2303e-04\n",
            "Epoch 22/25\n",
            "77/77 [==============================] - 6s 82ms/step - loss: 8.1032e-04\n",
            "Epoch 23/25\n",
            "77/77 [==============================] - 6s 82ms/step - loss: 7.4098e-04\n",
            "Epoch 24/25\n",
            "77/77 [==============================] - 6s 82ms/step - loss: 8.2617e-04\n",
            "Epoch 25/25\n",
            "77/77 [==============================] - 6s 81ms/step - loss: 5.9918e-04\n"
          ]
        },
        {
          "output_type": "execute_result",
          "data": {
            "text/plain": [
              "<keras.callbacks.History at 0x7f9a0718be90>"
            ]
          },
          "metadata": {},
          "execution_count": 13
        }
      ]
    },
    {
      "cell_type": "markdown",
      "source": [
        "# Testing The Model"
      ],
      "metadata": {
        "id": "YQk9I2ut7PSc"
      }
    },
    {
      "cell_type": "code",
      "source": [
        "test_start = dt.datetime(2022,1,1)\n",
        "test_end = dt.datetime.now()\n",
        "test_data = pandas_datareader.DataReader(ticker, \"yahoo\", test_start, test_end)\n",
        "\n",
        "actual_prices = test_data['Close'].values\n",
        "\n",
        "total_dataset = pd.concat((data['Close'], test_data['Close']), axis=0)\n",
        "\n",
        "model_inputs = total_dataset[len(total_dataset) - len(test_data) - prediction_days:].values\n",
        "model_inputs = model_inputs.reshape(-1,1)\n",
        "model_inputs = scaler.transform(model_inputs)\n",
        "\n",
        "x_test = []\n",
        "\n",
        "for x in range(prediction_days, len(model_inputs)):\n",
        "    x_test.append(model_inputs[x-prediction_days:x, 0])\n",
        "\n",
        "x_test = np.array(x_test)\n",
        "x_test = np.reshape(x_test, (x_test.shape[0], x_test.shape[1], 1))\n",
        "\n",
        "predicted_prices = model.predict(x_test)\n",
        "predicted_prices = scaler.inverse_transform(predicted_prices)"
      ],
      "metadata": {
        "colab": {
          "base_uri": "https://localhost:8080/"
        },
        "id": "jqlGq-gBYrJf",
        "outputId": "0530a641-eee1-4155-a87a-2c7da15dc72e"
      },
      "execution_count": 14,
      "outputs": [
        {
          "output_type": "stream",
          "name": "stdout",
          "text": [
            "7/7 [==============================] - 3s 22ms/step\n"
          ]
        }
      ]
    },
    {
      "cell_type": "markdown",
      "source": [
        "# Plotting The Results"
      ],
      "metadata": {
        "id": "xyjV5cXQ7WAp"
      }
    },
    {
      "cell_type": "code",
      "source": [
        "plt.plot(actual_prices, color=\"black\", label=\"Actual Prices\")\n",
        "plt.plot(predicted_prices, color=\"blue\", label=\"Predicted Prices\")\n",
        "plt.title(f\"{ticker} Share Price\")\n",
        "plt.xlabel(\"Time\")\n",
        "plt.ylabel(f\"{ticker} Share Price\")\n",
        "plt.legend()\n",
        "plt.show()"
      ],
      "metadata": {
        "colab": {
          "base_uri": "https://localhost:8080/",
          "height": 295
        },
        "id": "8DqLs7BgYxOe",
        "outputId": "ea54c1cf-8a39-44a4-f90a-3b44138fd8b4"
      },
      "execution_count": 15,
      "outputs": [
        {
          "output_type": "display_data",
          "data": {
            "text/plain": [
              "<Figure size 432x288 with 1 Axes>"
            ],
            "image/png": "[encoded data removed]"
          },
          "metadata": {
            "needs_background": "light"
          }
        }
      ]
    }
  ]
}
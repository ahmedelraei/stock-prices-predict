{
  "nbformat": 4,
  "nbformat_minor": 0,
  "metadata": {
    "colab": {
      "provenance": [],
      "collapsed_sections": [],
      "authorship_tag": "ABX9TyPRtOigmuM58Q/vjhg5BlvX",
      "include_colab_link": true
    },
    "kernelspec": {
      "name": "python3",
      "display_name": "Python 3"
    },
    "language_info": {
      "name": "python"
    }
  },
  "cells": [
    {
      "cell_type": "markdown",
      "metadata": {
        "id": "view-in-github",
        "colab_type": "text"
      },
      "source": [
        "<a href=\"https://colab.research.google.com/github/ahmedelraei/stock-prices-predict/blob/main/Stock_Prices_Predict.ipynb\" target=\"_parent\"><img src=\"https://colab.research.google.com/assets/colab-badge.svg\" alt=\"Open In Colab\"/></a>"
      ]
    },
    {
      "cell_type": "code",
      "source": [
        "!pip install --upgrade pandas_datareader"
      ],
      "metadata": {
        "id": "EjYY72ALYDhM"
      },
      "execution_count": null,
      "outputs": []
    },
    {
      "cell_type": "code",
      "execution_count": 1,
      "metadata": {
        "id": "Z0x2qo1QCEhi"
      },
      "outputs": [],
      "source": [
        "import numpy as np\n",
        "import matplotlib.pyplot as plt\n",
        "import pandas as pd\n",
        "import pandas_datareader\n",
        "import datetime as dt\n",
        "from sklearn.preprocessing import MinMaxScaler\n",
        "from tensorflow import keras\n",
        "from keras.models import Sequential\n",
        "from keras.layers import Dense, Dropout, LSTM\n"
      ]
    },
    {
      "cell_type": "markdown",
      "source": [
        "# Pre-processing Data"
      ],
      "metadata": {
        "id": "YaZJVZSe7C3J"
      }
    },
    {
      "cell_type": "code",
      "source": [
        "ticker = \"META\"\n",
        "\n",
        "start = dt.datetime(2008,1,1)\n",
        "end = dt.datetime(2022,1,1)\n",
        "\n",
        "data = pandas_datareader.DataReader(ticker, \"yahoo\", start, end)\n",
        "scaler = MinMaxScaler(feature_range=(0, 1))\n",
        "scaled_data = scaler.fit_transform(data['Close'].values.reshape(-1, 1))\n",
        "\n",
        "data.tail()"
      ],
      "metadata": {
        "id": "tvFGy-qoC8EL",
        "colab": {
          "base_uri": "https://localhost:8080/",
          "height": 238
        },
        "outputId": "38dacf5b-4af7-492c-96b1-efe4db043c36"
      },
      "execution_count": 53,
      "outputs": [
        {
          "output_type": "execute_result",
          "data": {
            "text/plain": [
              "                  High         Low        Open       Close    Volume  \\\n",
              "Date                                                                   \n",
              "2021-12-27  347.869995  338.010010  338.850006  346.179993  17795000   \n",
              "2021-12-28  352.709991  345.200012  346.630005  346.220001  16637600   \n",
              "2021-12-29  349.690002  341.640015  346.910004  342.940002  10747000   \n",
              "2021-12-30  347.230011  343.220001  344.000000  344.359985  10593300   \n",
              "2021-12-31  343.440002  336.269989  343.019989  336.350006  12870500   \n",
              "\n",
              "             Adj Close  \n",
              "Date                    \n",
              "2021-12-27  346.179993  \n",
              "2021-12-28  346.220001  \n",
              "2021-12-29  342.940002  \n",
              "2021-12-30  344.359985  \n",
              "2021-12-31  336.350006  "
            ],
            "text/html": [
              "\n",
              "  <div id=\"df-07e84cc8-9dc3-4546-9c59-2be256523c17\">\n",
              "    <div class=\"colab-df-container\">\n",
              "      <div>\n",
              "<style scoped>\n",
              "    .dataframe tbody tr th:only-of-type {\n",
              "        vertical-align: middle;\n",
              "    }\n",
              "\n",
              "    .dataframe tbody tr th {\n",
              "        vertical-align: top;\n",
              "    }\n",
              "\n",
              "    .dataframe thead th {\n",
              "        text-align: right;\n",
              "    }\n",
              "</style>\n",
              "<table border=\"1\" class=\"dataframe\">\n",
              "  <thead>\n",
              "    <tr style=\"text-align: right;\">\n",
              "      <th></th>\n",
              "      <th>High</th>\n",
              "      <th>Low</th>\n",
              "      <th>Open</th>\n",
              "      <th>Close</th>\n",
              "      <th>Volume</th>\n",
              "      <th>Adj Close</th>\n",
              "    </tr>\n",
              "    <tr>\n",
              "      <th>Date</th>\n",
              "      <th></th>\n",
              "      <th></th>\n",
              "      <th></th>\n",
              "      <th></th>\n",
              "      <th></th>\n",
              "      <th></th>\n",
              "    </tr>\n",
              "  </thead>\n",
              "  <tbody>\n",
              "    <tr>\n",
              "      <th>2021-12-27</th>\n",
              "      <td>347.869995</td>\n",
              "      <td>338.010010</td>\n",
              "      <td>338.850006</td>\n",
              "      <td>346.179993</td>\n",
              "      <td>17795000</td>\n",
              "      <td>346.179993</td>\n",
              "    </tr>\n",
              "    <tr>\n",
              "      <th>2021-12-28</th>\n",
              "      <td>352.709991</td>\n",
              "      <td>345.200012</td>\n",
              "      <td>346.630005</td>\n",
              "      <td>346.220001</td>\n",
              "      <td>16637600</td>\n",
              "      <td>346.220001</td>\n",
              "    </tr>\n",
              "    <tr>\n",
              "      <th>2021-12-29</th>\n",
              "      <td>349.690002</td>\n",
              "      <td>341.640015</td>\n",
              "      <td>346.910004</td>\n",
              "      <td>342.940002</td>\n",
              "      <td>10747000</td>\n",
              "      <td>342.940002</td>\n",
              "    </tr>\n",
              "    <tr>\n",
              "      <th>2021-12-30</th>\n",
              "      <td>347.230011</td>\n",
              "      <td>343.220001</td>\n",
              "      <td>344.000000</td>\n",
              "      <td>344.359985</td>\n",
              "      <td>10593300</td>\n",
              "      <td>344.359985</td>\n",
              "    </tr>\n",
              "    <tr>\n",
              "      <th>2021-12-31</th>\n",
              "      <td>343.440002</td>\n",
              "      <td>336.269989</td>\n",
              "      <td>343.019989</td>\n",
              "      <td>336.350006</td>\n",
              "      <td>12870500</td>\n",
              "      <td>336.350006</td>\n",
              "    </tr>\n",
              "  </tbody>\n",
              "</table>\n",
              "</div>\n",
              "      <button class=\"colab-df-convert\" onclick=\"convertToInteractive('df-07e84cc8-9dc3-4546-9c59-2be256523c17')\"\n",
              "              title=\"Convert this dataframe to an interactive table.\"\n",
              "              style=\"display:none;\">\n",
              "        \n",
              "  <svg xmlns=\"http://www.w3.org/2000/svg\" height=\"24px\"viewBox=\"0 0 24 24\"\n",
              "       width=\"24px\">\n",
              "    <path d=\"M0 0h24v24H0V0z\" fill=\"none\"/>\n",
              "    <path d=\"M18.56 5.44l.94 2.06.94-2.06 2.06-.94-2.06-.94-.94-2.06-.94 2.06-2.06.94zm-11 1L8.5 8.5l.94-2.06 2.06-.94-2.06-.94L8.5 2.5l-.94 2.06-2.06.94zm10 10l.94 2.06.94-2.06 2.06-.94-2.06-.94-.94-2.06-.94 2.06-2.06.94z\"/><path d=\"M17.41 7.96l-1.37-1.37c-.4-.4-.92-.59-1.43-.59-.52 0-1.04.2-1.43.59L10.3 9.45l-7.72 7.72c-.78.78-.78 2.05 0 2.83L4 21.41c.39.39.9.59 1.41.59.51 0 1.02-.2 1.41-.59l7.78-7.78 2.81-2.81c.8-.78.8-2.07 0-2.86zM5.41 20L4 18.59l7.72-7.72 1.47 1.35L5.41 20z\"/>\n",
              "  </svg>\n",
              "      </button>\n",
              "      \n",
              "  <style>\n",
              "    .colab-df-container {\n",
              "      display:flex;\n",
              "      flex-wrap:wrap;\n",
              "      gap: 12px;\n",
              "    }\n",
              "\n",
              "    .colab-df-convert {\n",
              "      background-color: #E8F0FE;\n",
              "      border: none;\n",
              "      border-radius: 50%;\n",
              "      cursor: pointer;\n",
              "      display: none;\n",
              "      fill: #1967D2;\n",
              "      height: 32px;\n",
              "      padding: 0 0 0 0;\n",
              "      width: 32px;\n",
              "    }\n",
              "\n",
              "    .colab-df-convert:hover {\n",
              "      background-color: #E2EBFA;\n",
              "      box-shadow: 0px 1px 2px rgba(60, 64, 67, 0.3), 0px 1px 3px 1px rgba(60, 64, 67, 0.15);\n",
              "      fill: #174EA6;\n",
              "    }\n",
              "\n",
              "    [theme=dark] .colab-df-convert {\n",
              "      background-color: #3B4455;\n",
              "      fill: #D2E3FC;\n",
              "    }\n",
              "\n",
              "    [theme=dark] .colab-df-convert:hover {\n",
              "      background-color: #434B5C;\n",
              "      box-shadow: 0px 1px 3px 1px rgba(0, 0, 0, 0.15);\n",
              "      filter: drop-shadow(0px 1px 2px rgba(0, 0, 0, 0.3));\n",
              "      fill: #FFFFFF;\n",
              "    }\n",
              "  </style>\n",
              "\n",
              "      <script>\n",
              "        const buttonEl =\n",
              "          document.querySelector('#df-07e84cc8-9dc3-4546-9c59-2be256523c17 button.colab-df-convert');\n",
              "        buttonEl.style.display =\n",
              "          google.colab.kernel.accessAllowed ? 'block' : 'none';\n",
              "\n",
              "        async function convertToInteractive(key) {\n",
              "          const element = document.querySelector('#df-07e84cc8-9dc3-4546-9c59-2be256523c17');\n",
              "          const dataTable =\n",
              "            await google.colab.kernel.invokeFunction('convertToInteractive',\n",
              "                                                     [key], {});\n",
              "          if (!dataTable) return;\n",
              "\n",
              "          const docLinkHtml = 'Like what you see? Visit the ' +\n",
              "            '<a target=\"_blank\" href=https://colab.research.google.com/notebooks/data_table.ipynb>data table notebook</a>'\n",
              "            + ' to learn more about interactive tables.';\n",
              "          element.innerHTML = '';\n",
              "          dataTable['output_type'] = 'display_data';\n",
              "          await google.colab.output.renderOutput(dataTable, element);\n",
              "          const docLink = document.createElement('div');\n",
              "          docLink.innerHTML = docLinkHtml;\n",
              "          element.appendChild(docLink);\n",
              "        }\n",
              "      </script>\n",
              "    </div>\n",
              "  </div>\n",
              "  "
            ]
          },
          "metadata": {},
          "execution_count": 53
        }
      ]
    },
    {
      "cell_type": "markdown",
      "source": [
        "# Training Model"
      ],
      "metadata": {
        "id": "cwfp_E3U7LH9"
      }
    },
    {
      "cell_type": "code",
      "source": [
        "prediction_days = 90\n",
        "\n",
        "x_train = []\n",
        "y_train = []\n",
        "\n",
        "for x in range(prediction_days, len(scaled_data)):\n",
        "    x_train.append(scaled_data[x-prediction_days:x, 0])\n",
        "    y_train.append(scaled_data[x, 0])\n",
        "\n",
        "x_train, y_train = np.array(x_train), np.array(y_train)\n",
        "\n",
        "x_train = np.reshape(x_train, (x_train.shape[0], x_train.shape[1], 1))\n",
        "\n",
        "\n",
        "model = Sequential()\n",
        "\n",
        "model.add(LSTM(units=50, return_sequences=True, input_shape=(x_train.shape[1], 1)))\n",
        "model.add(Dropout(0.2))\n",
        "model.add(LSTM(units=50, return_sequences=True))\n",
        "model.add(Dropout(0.2))\n",
        "model.add(LSTM(units=50))\n",
        "model.add(Dropout(0.2))\n",
        "model.add(Dense(units=1)) # Prediction\n",
        "\n",
        "model.compile(optimizer=\"adam\", loss=\"mean_squared_error\")\n",
        "model.fit(x_train, y_train, epochs=25, batch_size=32)\n"
      ],
      "metadata": {
        "colab": {
          "base_uri": "https://localhost:8080/"
        },
        "id": "60lc4GtDYks7",
        "outputId": "ac27d136-38ad-45df-e0a0-58d60282f815"
      },
      "execution_count": 54,
      "outputs": [
        {
          "output_type": "stream",
          "name": "stdout",
          "text": [
            "Epoch 1/25\n",
            "73/73 [==============================] - 15s 121ms/step - loss: 0.0108\n",
            "Epoch 2/25\n",
            "73/73 [==============================] - 9s 120ms/step - loss: 0.0026\n",
            "Epoch 3/25\n",
            "73/73 [==============================] - 10s 136ms/step - loss: 0.0025\n",
            "Epoch 4/25\n",
            "73/73 [==============================] - 11s 148ms/step - loss: 0.0020\n",
            "Epoch 5/25\n",
            "73/73 [==============================] - 11s 152ms/step - loss: 0.0019\n",
            "Epoch 6/25\n",
            "73/73 [==============================] - 10s 130ms/step - loss: 0.0022\n",
            "Epoch 7/25\n",
            "73/73 [==============================] - 11s 145ms/step - loss: 0.0019\n",
            "Epoch 8/25\n",
            "73/73 [==============================] - 9s 126ms/step - loss: 0.0021\n",
            "Epoch 9/25\n",
            "73/73 [==============================] - 9s 121ms/step - loss: 0.0017\n",
            "Epoch 10/25\n",
            "73/73 [==============================] - 9s 120ms/step - loss: 0.0016\n",
            "Epoch 11/25\n",
            "73/73 [==============================] - 10s 135ms/step - loss: 0.0015\n",
            "Epoch 12/25\n",
            "73/73 [==============================] - 9s 121ms/step - loss: 0.0015\n",
            "Epoch 13/25\n",
            "73/73 [==============================] - 9s 121ms/step - loss: 0.0014\n",
            "Epoch 14/25\n",
            "73/73 [==============================] - 9s 120ms/step - loss: 0.0015\n",
            "Epoch 15/25\n",
            "73/73 [==============================] - 10s 138ms/step - loss: 0.0015\n",
            "Epoch 16/25\n",
            "73/73 [==============================] - 10s 136ms/step - loss: 0.0016\n",
            "Epoch 17/25\n",
            "73/73 [==============================] - 9s 122ms/step - loss: 0.0017\n",
            "Epoch 18/25\n",
            "73/73 [==============================] - 9s 123ms/step - loss: 0.0011\n",
            "Epoch 19/25\n",
            "73/73 [==============================] - 10s 138ms/step - loss: 0.0013\n",
            "Epoch 20/25\n",
            "73/73 [==============================] - 9s 122ms/step - loss: 0.0012\n",
            "Epoch 21/25\n",
            "73/73 [==============================] - 9s 122ms/step - loss: 0.0012\n",
            "Epoch 22/25\n",
            "73/73 [==============================] - 9s 122ms/step - loss: 0.0011\n",
            "Epoch 23/25\n",
            "73/73 [==============================] - 10s 138ms/step - loss: 0.0012\n",
            "Epoch 24/25\n",
            "73/73 [==============================] - 9s 123ms/step - loss: 0.0011\n",
            "Epoch 25/25\n",
            "73/73 [==============================] - 9s 122ms/step - loss: 0.0010\n"
          ]
        },
        {
          "output_type": "execute_result",
          "data": {
            "text/plain": [
              "<keras.callbacks.History at 0x7f99fb3e1210>"
            ]
          },
          "metadata": {},
          "execution_count": 54
        }
      ]
    },
    {
      "cell_type": "markdown",
      "source": [
        "# Testing The Model"
      ],
      "metadata": {
        "id": "YQk9I2ut7PSc"
      }
    },
    {
      "cell_type": "code",
      "source": [
        "test_start = dt.datetime(2022,1,1)\n",
        "test_end = dt.datetime.now()\n",
        "test_data = pandas_datareader.DataReader(ticker, \"yahoo\", test_start, test_end)\n",
        "\n",
        "actual_prices = test_data['Close'].values\n",
        "\n",
        "total_dataset = pd.concat((data['Close'], test_data['Close']), axis=0)\n",
        "\n",
        "model_inputs = total_dataset[len(total_dataset) - len(test_data) - prediction_days:].values\n",
        "model_inputs = model_inputs.reshape(-1,1)\n",
        "model_inputs = scaler.transform(model_inputs)\n",
        "\n",
        "x_test = []\n",
        "\n",
        "for x in range(prediction_days, len(model_inputs)):\n",
        "    x_test.append(model_inputs[x-prediction_days:x, 0])\n",
        "\n",
        "x_test = np.array(x_test)\n",
        "x_test = np.reshape(x_test, (x_test.shape[0], x_test.shape[1], 1))\n",
        "\n",
        "predicted_prices = model.predict(x_test)\n",
        "predicted_prices = scaler.inverse_transform(predicted_prices)"
      ],
      "metadata": {
        "colab": {
          "base_uri": "https://localhost:8080/"
        },
        "id": "jqlGq-gBYrJf",
        "outputId": "e0059f05-7907-47ee-9f39-3c8b24e8ef68"
      },
      "execution_count": 59,
      "outputs": [
        {
          "output_type": "stream",
          "name": "stdout",
          "text": [
            "7/7 [==============================] - 0s 32ms/step\n"
          ]
        }
      ]
    },
    {
      "cell_type": "markdown",
      "source": [
        "# Predicting Next Day"
      ],
      "metadata": {
        "id": "CbcKdIL0866-"
      }
    },
    {
      "cell_type": "code",
      "source": [
        "real_data = [model_inputs[len(model_inputs) + 1 - prediction_days:len(model_inputs) + 1, 0]]\n",
        "real_data = np.array(real_data)\n",
        "real_data = np.reshape(real_data, (real_data.shape[0], real_data.shape[1], 1))\n",
        "prediction = scaler.inverse_transform(model.predict(real_data))\n",
        "prediction[0][0]"
      ],
      "metadata": {
        "colab": {
          "base_uri": "https://localhost:8080/"
        },
        "id": "I4f469WZ9BPM",
        "outputId": "b41bb76f-64c8-444c-fd20-2c58d9f1578b"
      },
      "execution_count": 58,
      "outputs": [
        {
          "output_type": "stream",
          "name": "stdout",
          "text": [
            "1/1 [==============================] - 0s 27ms/step\n"
          ]
        },
        {
          "output_type": "execute_result",
          "data": {
            "text/plain": [
              "99.09978"
            ]
          },
          "metadata": {},
          "execution_count": 58
        }
      ]
    },
    {
      "cell_type": "markdown",
      "source": [
        "# Plotting The Results"
      ],
      "metadata": {
        "id": "xyjV5cXQ7WAp"
      }
    },
    {
      "cell_type": "code",
      "source": [
        "plt.plot(actual_prices, color=\"black\", label=\"Actual Prices\")\n",
        "plt.plot(predicted_prices, color=\"blue\", label=\"Predicted Prices\")\n",
        "plt.title(f\"{ticker} Share Price\")\n",
        "plt.xlabel(\"Time\")\n",
        "plt.ylabel(f\"{ticker} Share Price\")\n",
        "plt.legend()\n",
        "plt.show()"
      ],
      "metadata": {
        "colab": {
          "base_uri": "https://localhost:8080/",
          "height": 295
        },
        "id": "8DqLs7BgYxOe",
        "outputId": "76d3f5f1-39ca-41ea-ed9f-dd0c5b16b625"
      },
      "execution_count": 60,
      "outputs": [
        {
          "output_type": "display_data",
          "data": {
            "text/plain": [
              "<Figure size 432x288 with 1 Axes>"
            ],
            "image/png": "[encoded data removed]"
          },
          "metadata": {
            "needs_background": "light"
          }
        }
      ]
    }
  ]
}
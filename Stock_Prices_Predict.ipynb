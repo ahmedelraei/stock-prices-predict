{
  "nbformat": 4,
  "nbformat_minor": 0,
  "metadata": {
    "colab": {
      "provenance": [],
      "authorship_tag": "ABX9TyNcuDw/i/ARe9rTpdTiZg68",
      "include_colab_link": true
    },
    "kernelspec": {
      "name": "python3",
      "display_name": "Python 3"
    },
    "language_info": {
      "name": "python"
    }
  },
  "cells": [
    {
      "cell_type": "markdown",
      "metadata": {
        "id": "view-in-github",
        "colab_type": "text"
      },
      "source": [
        "<a href=\"https://colab.research.google.com/github/ahmedelraei/stock-prices-predict/blob/main/Stock_Prices_Predict.ipynb\" target=\"_parent\"><img src=\"https://colab.research.google.com/assets/colab-badge.svg\" alt=\"Open In Colab\"/></a>"
      ]
    },
    {
      "cell_type": "code",
      "source": [
        "!pip install --upgrade pandas_datareader"
      ],
      "metadata": {
        "id": "EjYY72ALYDhM"
      },
      "execution_count": null,
      "outputs": []
    },
    {
      "cell_type": "code",
      "execution_count": 1,
      "metadata": {
        "id": "Z0x2qo1QCEhi"
      },
      "outputs": [],
      "source": [
        "import numpy as np\n",
        "import matplotlib.pyplot as plt\n",
        "import pandas as pd\n",
        "import pandas_datareader\n",
        "import datetime as dt\n",
        "from sklearn.preprocessing import MinMaxScaler\n",
        "from tensorflow import keras\n",
        "from keras.models import Sequential\n",
        "from keras.layers import Dense, Dropout, LSTM\n"
      ]
    },
    {
      "cell_type": "code",
      "source": [
        "ticker = \"META\"\n",
        "\n",
        "start = dt.datetime(2012,1,1)\n",
        "end = dt.datetime(2022,1,1)\n",
        "\n",
        "data = pandas_datareader.DataReader(ticker, \"yahoo\", start, end)\n",
        "\n",
        "scaler = MinMaxScaler(feature_range=(0, 1))\n",
        "scaled_data = scaler.fit_transform(data['Close'].values.reshape(-1, 1))\n"
      ],
      "metadata": {
        "id": "tvFGy-qoC8EL"
      },
      "execution_count": 2,
      "outputs": []
    },
    {
      "cell_type": "code",
      "source": [
        "prediction_days = 60\n",
        "\n",
        "x_train = []\n",
        "y_train = []\n",
        "\n",
        "for x in range(prediction_days, len(scaled_data)):\n",
        "    x_train.append(scaled_data[x-prediction_days:x, 0])\n",
        "    y_train.append(scaled_data[x, 0])\n",
        "\n",
        "x_train, y_train = np.array(x_train), np.array(y_train)\n",
        "\n",
        "x_train = np.reshape(x_train, (x_train.shape[0], x_train.shape[1], 1))\n",
        "\n",
        "\n",
        "model = Sequential()\n",
        "\n",
        "model.add(LSTM(units=50, return_sequences=True, input_shape=(x_train.shape[1], 1)))\n",
        "model.add(Dropout(0.2))\n",
        "model.add(LSTM(units=50, return_sequences=True))\n",
        "model.add(Dropout(0.2))\n",
        "model.add(LSTM(units=50))\n",
        "model.add(Dropout(0.2))\n",
        "model.add(Dense(units=1)) # Prediction\n",
        "\n",
        "model.compile(optimizer=\"adam\", loss=\"mean_squared_error\")\n",
        "model.fit(x_train, y_train, epochs=25, batch_size=32)\n"
      ],
      "metadata": {
        "colab": {
          "base_uri": "https://localhost:8080/"
        },
        "id": "60lc4GtDYks7",
        "outputId": "59f5cd82-89ce-462b-d510-d9a9ecc11898"
      },
      "execution_count": 3,
      "outputs": [
        {
          "output_type": "stream",
          "name": "stdout",
          "text": [
            "Epoch 1/25\n",
            "74/74 [==============================] - 11s 80ms/step - loss: 0.0111\n",
            "Epoch 2/25\n",
            "74/74 [==============================] - 6s 81ms/step - loss: 0.0024\n",
            "Epoch 3/25\n",
            "74/74 [==============================] - 10s 130ms/step - loss: 0.0021\n",
            "Epoch 4/25\n",
            "74/74 [==============================] - 6s 79ms/step - loss: 0.0023\n",
            "Epoch 5/25\n",
            "74/74 [==============================] - 8s 112ms/step - loss: 0.0019\n",
            "Epoch 6/25\n",
            "74/74 [==============================] - 7s 101ms/step - loss: 0.0018\n",
            "Epoch 7/25\n",
            "74/74 [==============================] - 6s 80ms/step - loss: 0.0019\n",
            "Epoch 8/25\n",
            "74/74 [==============================] - 6s 80ms/step - loss: 0.0016\n",
            "Epoch 9/25\n",
            "74/74 [==============================] - 6s 78ms/step - loss: 0.0017\n",
            "Epoch 10/25\n",
            "74/74 [==============================] - 6s 80ms/step - loss: 0.0018\n",
            "Epoch 11/25\n",
            "74/74 [==============================] - 7s 95ms/step - loss: 0.0015\n",
            "Epoch 12/25\n",
            "74/74 [==============================] - 6s 79ms/step - loss: 0.0015\n",
            "Epoch 13/25\n",
            "74/74 [==============================] - 6s 80ms/step - loss: 0.0017\n",
            "Epoch 14/25\n",
            "74/74 [==============================] - 6s 81ms/step - loss: 0.0014\n",
            "Epoch 15/25\n",
            "74/74 [==============================] - 6s 81ms/step - loss: 0.0014\n",
            "Epoch 16/25\n",
            "74/74 [==============================] - 6s 80ms/step - loss: 0.0013\n",
            "Epoch 17/25\n",
            "74/74 [==============================] - 6s 82ms/step - loss: 0.0012\n",
            "Epoch 18/25\n",
            "74/74 [==============================] - 7s 94ms/step - loss: 0.0012\n",
            "Epoch 19/25\n",
            "74/74 [==============================] - 6s 79ms/step - loss: 0.0012\n",
            "Epoch 20/25\n",
            "74/74 [==============================] - 6s 80ms/step - loss: 0.0012\n",
            "Epoch 21/25\n",
            "74/74 [==============================] - 6s 79ms/step - loss: 0.0012\n",
            "Epoch 22/25\n",
            "74/74 [==============================] - 6s 80ms/step - loss: 0.0013\n",
            "Epoch 23/25\n",
            "74/74 [==============================] - 6s 80ms/step - loss: 0.0012\n",
            "Epoch 24/25\n",
            "74/74 [==============================] - 6s 80ms/step - loss: 0.0012\n",
            "Epoch 25/25\n",
            "74/74 [==============================] - 9s 125ms/step - loss: 0.0012\n"
          ]
        },
        {
          "output_type": "execute_result",
          "data": {
            "text/plain": [
              "<keras.callbacks.History at 0x7f9a06966150>"
            ]
          },
          "metadata": {},
          "execution_count": 3
        }
      ]
    },
    {
      "cell_type": "code",
      "source": [
        "test_start = dt.datetime(2022,1,1)\n",
        "test_end = dt.datetime.now()\n",
        "test_data = pandas_datareader.DataReader(ticker, \"yahoo\", test_start, test_end)\n",
        "\n",
        "actual_prices = test_data['Close'].values\n",
        "\n",
        "total_dataset = pd.concat((data['Close'], test_data['Close']), axis=0)\n",
        "\n",
        "model_inputs = total_dataset[len(total_dataset) - len(test_data) - prediction_days:].values\n",
        "model_inputs = model_inputs.reshape(-1,1)\n",
        "model_inputs = scaler.transform(model_inputs)\n",
        "\n",
        "x_test = []\n",
        "\n",
        "for x in range(prediction_days, len(model_inputs)):\n",
        "    x_test.append(model_inputs[x-prediction_days:x, 0])\n",
        "\n",
        "x_test = np.array(x_test)\n",
        "x_test = np.reshape(x_test, (x_test.shape[0], x_test.shape[1], 1))\n",
        "\n",
        "predicted_prices = model.predict(x_test)\n",
        "predicted_prices = scaler.inverse_transform(predicted_prices)"
      ],
      "metadata": {
        "colab": {
          "base_uri": "https://localhost:8080/"
        },
        "id": "jqlGq-gBYrJf",
        "outputId": "04bfd1ae-ee98-40ae-bcf2-391cc91dff62"
      },
      "execution_count": 4,
      "outputs": [
        {
          "output_type": "stream",
          "name": "stdout",
          "text": [
            "7/7 [==============================] - 1s 22ms/step\n"
          ]
        }
      ]
    },
    {
      "cell_type": "code",
      "source": [
        "plt.plot(actual_prices, color=\"black\", label=\"Actual Prices\")\n",
        "plt.plot(predicted_prices, color=\"blue\", label=\"Predicted Prices\")\n",
        "plt.title(f\"{ticker} Share Price\")\n",
        "plt.xlabel(\"Time\")\n",
        "plt.ylabel(f\"{ticker} Share Price\")\n",
        "plt.legend()\n",
        "plt.show()"
      ],
      "metadata": {
        "colab": {
          "base_uri": "https://localhost:8080/",
          "height": 295
        },
        "id": "8DqLs7BgYxOe",
        "outputId": "3f2a55d9-c055-445a-df6d-467baac49bb6"
      },
      "execution_count": 5,
      "outputs": [
        {
          "output_type": "display_data",
          "data": {
            "text/plain": [
              "<Figure size 432x288 with 1 Axes>"
            ],
            "image/png": "[encoded data removed]"
          },
          "metadata": {
            "needs_background": "light"
          }
        }
      ]
    }
  ]
}